{
 "cells": [
  {
   "cell_type": "code",
   "execution_count": 38,
   "metadata": {},
   "outputs": [],
   "source": [
    "from elasticsearch_dsl import connections\n",
    "\n",
    "# Create the default connection to Elasticsearch\n",
    "client = connections.create_connection(hosts=[\"elasticsearch\"], timeout=20)"
   ]
  },
  {
   "cell_type": "code",
   "execution_count": 79,
   "metadata": {
    "scrolled": true
   },
   "outputs": [],
   "source": [
    "from elasticsearch_dsl import Date, Document, Integer, Keyword, Text\n",
    "\n",
    "INDEX_NAME = \"movies\"\n",
    "\n",
    "class Movie(Document):\n",
    "    title = Text()\n",
    "    overview = Text()\n",
    "    genre = Keyword()\n",
    "    release_date = Date()\n",
    "    revenue = Integer()\n",
    "    production_companies = Keyword()\n",
    "\n",
    "    class Index:\n",
    "        name = INDEX_NAME\n",
    "    \n",
    "    def get_display_name(self):\n",
    "        year = self.release_date.strftime('%Y')\n",
    "        return '{title} ({year})'.format(title=self.title, year=year)\n",
    "    \n",
    "    def __repr__(self):\n",
    "        return '<Movie: {}>'.format(self.get_display_name())"
   ]
  },
  {
   "cell_type": "code",
   "execution_count": 80,
   "metadata": {},
   "outputs": [
    {
     "data": {
      "text/plain": [
       "{'movies': {'mappings': {'doc': {'properties': {'genre': {'type': 'keyword'},\n",
       "     'overview': {'type': 'text'},\n",
       "     'production_companies': {'type': 'keyword'},\n",
       "     'release_date': {'type': 'date'},\n",
       "     'revenue': {'type': 'integer'},\n",
       "     'title': {'type': 'text'}}}}}}"
      ]
     },
     "execution_count": 80,
     "metadata": {},
     "output_type": "execute_result"
    }
   ],
   "source": [
    "# Create the mapping\n",
    "Movie.init()\n",
    "\n",
    "# Confirm the mapping exists\n",
    "client.indices.get_mapping(INDEX_NAME)"
   ]
  },
  {
   "cell_type": "code",
   "execution_count": 93,
   "metadata": {},
   "outputs": [
    {
     "data": {
      "text/plain": [
       "False"
      ]
     },
     "execution_count": 93,
     "metadata": {},
     "output_type": "execute_result"
    }
   ],
   "source": [
    "# Create an example movie\n",
    "movie = Movie(\n",
    "    meta={'id': 1},\n",
    "    title=\"Example Movie\",\n",
    "    overview=\"This movie is about cats and dogs\",\n",
    "    genre=[\"Comedy\", \"Comedy\"],\n",
    "    release_date=\"2018-11-02\",\n",
    "    revenue=1000000,\n",
    "    production_companies=\"Pixar\"\n",
    ")\n",
    "movie.save()"
   ]
  },
  {
   "cell_type": "code",
   "execution_count": 133,
   "metadata": {},
   "outputs": [],
   "source": [
    "from elasticsearch_dsl import Search\n",
    "\n",
    "# Search for all movies (10 at a time) and delete them one by one\n",
    "movies = Movie.search()\n",
    "for movie in movies:\n",
    "    print(movie)\n",
    "    movie.delete()\n"
   ]
  },
  {
   "cell_type": "code",
   "execution_count": 134,
   "metadata": {},
   "outputs": [],
   "source": [
    "import csv\n",
    "import ast\n",
    "\n",
    "MAX_ROWS = 10\n",
    "\n",
    "with open(\"input/movies.csv\") as csvfile:\n",
    "    reader = csv.DictReader(csvfile)\n",
    "    for idx, row in enumerate(reader):\n",
    "        if idx >= MAX_ROWS:\n",
    "            break\n",
    "\n",
    "        movie = Movie(\n",
    "            id = row[\"imdb_id\"],\n",
    "            title = row[\"title\"],\n",
    "            overview = row[\"overview\"],\n",
    "            genre = [g[\"name\"] for g in ast.literal_eval(row[\"genres\"])],\n",
    "            release_date = row[\"release_date\"],\n",
    "            revenue = row[\"revenue\"],\n",
    "            production_companies = [p[\"name\"] for p in ast.literal_eval(row[\"production_companies\"])],      \n",
    "        )\n",
    "        movie.save()    "
   ]
  },
  {
   "cell_type": "code",
   "execution_count": null,
   "metadata": {},
   "outputs": [],
   "source": []
  }
 ],
 "metadata": {
  "kernelspec": {
   "display_name": "Python 3",
   "language": "python",
   "name": "python3"
  },
  "language_info": {
   "codemirror_mode": {
    "name": "ipython",
    "version": 3
   },
   "file_extension": ".py",
   "mimetype": "text/x-python",
   "name": "python",
   "nbconvert_exporter": "python",
   "pygments_lexer": "ipython3",
   "version": "3.6.6"
  }
 },
 "nbformat": 4,
 "nbformat_minor": 2
}
