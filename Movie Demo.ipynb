{
 "cells": [
  {
   "cell_type": "markdown",
   "metadata": {},
   "source": [
    "# Interactive Tech Talk\n",
    "## Elasticsearch + Python \n",
    "By Sean Kozer\n",
    "\n",
    "The purpose of this interactive tech talk is to familiarise you with Elasticsearch concepts and how to apply them in Python projects.\n",
    "\n",
    "You will be searching, filtering and performing statistical analysis on movie data from IMDB."
   ]
  },
  {
   "cell_type": "markdown",
   "metadata": {},
   "source": [
    "### Connecting to Elasticsearch\n",
    "\n",
    "The first step is to create a connection. We will be creating a persistent connection so we won't have to explicitly pass it into each method call.\n",
    "\n",
    "The `\"elasticsearch\"` hostname is the name of ES service in `docker-compose.yml`"
   ]
  },
  {
   "cell_type": "code",
   "execution_count": 1,
   "metadata": {},
   "outputs": [],
   "source": [
    "from elasticsearch_dsl import connections\n",
    "\n",
    "# Create the default connection to Elasticsearch\n",
    "client = connections.create_connection(hosts=[\"elasticsearch\"], timeout=20)"
   ]
  },
  {
   "cell_type": "markdown",
   "metadata": {},
   "source": [
    "### Defining the schema\n",
    "\n",
    "Elasticsearch is technically a schemaless datastore. But to avoid issues down the track, it's explicitly define a mapping.\n",
    "\n",
    "Elasticsearch-DSL provides a convenient wrapper which bears some similarities with Django models.\n",
    "\n",
    "We'll be using several different datatypes for our movie data.\n",
    "\n",
    "- For string fields which require full-text search, we're going to use the `Text` type.\n",
    "- For string fields which are only used for filtering and sorting, we're going to use the `Keyword` type.\n",
    "- The other datatypes we'll use are `Integer` and `Date`, which are self explanatory in this demo."
   ]
  },
  {
   "cell_type": "code",
   "execution_count": 2,
   "metadata": {
    "scrolled": true
   },
   "outputs": [],
   "source": [
    "from elasticsearch_dsl import Date, Document, Integer, Keyword, Text\n",
    "\n",
    "INDEX_NAME = \"movies\"\n",
    "\n",
    "class Movie(Document):\n",
    "    title = Text()\n",
    "    overview = Text()\n",
    "    genre = Keyword()\n",
    "    release_date = Date()\n",
    "    revenue = Integer()\n",
    "    production_companies = Keyword()\n",
    "\n",
    "    class Index:\n",
    "        name = INDEX_NAME\n",
    "    \n",
    "    def get_display_name(self):\n",
    "        year = self.release_date.strftime('%Y')\n",
    "        return '{title} ({year})'.format(title=self.title, year=year)\n",
    "    \n",
    "    def __repr__(self):\n",
    "        return '<Movie: {}>'.format(self.get_display_name())"
   ]
  },
  {
   "cell_type": "markdown",
   "metadata": {},
   "source": [
    "### Creating the index and mapping\n",
    "\n",
    "Now that we have our mapping, it's time to push it to Elasticsearch."
   ]
  },
  {
   "cell_type": "code",
   "execution_count": 66,
   "metadata": {},
   "outputs": [
    {
     "data": {
      "text/plain": [
       "{'movies': {'mappings': {'doc': {'properties': {'genre': {'type': 'keyword'},\n",
       "     'overview': {'type': 'text'},\n",
       "     'production_companies': {'type': 'keyword'},\n",
       "     'release_date': {'type': 'date'},\n",
       "     'revenue': {'type': 'integer'},\n",
       "     'title': {'type': 'text'}}}}}}"
      ]
     },
     "execution_count": 66,
     "metadata": {},
     "output_type": "execute_result"
    }
   ],
   "source": [
    "# Create the mapping\n",
    "Movie.init()\n",
    "\n",
    "# Confirm the mapping exists\n",
    "client.indices.get_mapping(INDEX_NAME)"
   ]
  },
  {
   "cell_type": "markdown",
   "metadata": {},
   "source": [
    "### Indexing our first movie\n",
    "\n",
    "Let's create a movie and push it to Elasticsearch. You'll notice the syntax here is very similar to Django models."
   ]
  },
  {
   "cell_type": "code",
   "execution_count": 4,
   "metadata": {},
   "outputs": [
    {
     "data": {
      "text/plain": [
       "True"
      ]
     },
     "execution_count": 4,
     "metadata": {},
     "output_type": "execute_result"
    }
   ],
   "source": [
    "# Create an example movie\n",
    "movie = Movie(\n",
    "    meta={'id': 1},\n",
    "    title=\"Example Movie\",\n",
    "    overview=\"This movie is about cats and dogs\",\n",
    "    genre=[\"Comedy\", \"Comedy\"],\n",
    "    release_date=\"2018-11-02\",\n",
    "    revenue=1000000,\n",
    "    production_companies=\"Pixar\"\n",
    ")\n",
    "movie.save()"
   ]
  },
  {
   "cell_type": "markdown",
   "metadata": {},
   "source": [
    "### Finding our first movie\n",
    "\n",
    "**Success!** Let's search the index to try find the movie we created.\n",
    "\n",
    "Elasticsearch returns all results when no filters or queries are specified.\n",
    "\n",
    "Because this is just a test movie, we'll delete it right after we print it.\n",
    "\n",
    "**Note:** Pagination defaults to 10 results. You can increase this by using Python array slicing."
   ]
  },
  {
   "cell_type": "code",
   "execution_count": 5,
   "metadata": {},
   "outputs": [
    {
     "name": "stdout",
     "output_type": "stream",
     "text": [
      "<Movie: Example Movie (2018)>\n"
     ]
    }
   ],
   "source": [
    "from elasticsearch_dsl import Search\n",
    "\n",
    "# Search for all movies (10 at a time) and delete them one by one\n",
    "movies = Movie.search()\n",
    "for movie in movies:\n",
    "    print(movie)\n",
    "    movie.delete()\n"
   ]
  },
  {
   "cell_type": "markdown",
   "metadata": {},
   "source": [
    "### Use real data\n",
    "\n",
    "Now that we're confident everything is working, let's index real movies!"
   ]
  },
  {
   "cell_type": "code",
   "execution_count": 68,
   "metadata": {},
   "outputs": [],
   "source": [
    "import csv\n",
    "import ast\n",
    "\n",
    "MAX_ROWS = 1000\n",
    "\n",
    "with open(\"input/movies.csv\") as csvfile:\n",
    "    reader = csv.DictReader(csvfile)\n",
    "    for idx, row in enumerate(reader):\n",
    "        if idx >= MAX_ROWS:\n",
    "            break\n",
    "\n",
    "        movie = Movie(\n",
    "            meta={\"id\": row[\"imdb_id\"]},\n",
    "            title=row[\"title\"],\n",
    "            overview=row[\"overview\"],\n",
    "            genre=[g[\"name\"] for g in ast.literal_eval(row[\"genres\"])],\n",
    "            release_date=row[\"release_date\"] or None,\n",
    "            revenue=row[\"revenue\"],\n",
    "            production_companies=[p[\"name\"] for p in ast.literal_eval(row[\"production_companies\"])],      \n",
    "        )\n",
    "        movie.save()    "
   ]
  },
  {
   "cell_type": "markdown",
   "metadata": {},
   "source": [
    "### Full text search\n",
    "\n",
    "In our mapping we defined the title as a `Text` datatype which allows tokenisation and analysis at index time and search time.\n",
    "\n",
    "By default, it uses the `standard` analyzer which has sensible, but basic defaults.<br>\n",
    "You can create custom analyzers in index settings and assign them to fields in the mapping.<br>\n",
    "\n",
    "For this demo, we'll keep it simple.\n",
    "\n",
    "Let's see this in action by searching for movie titles containing the word \"Blue\".\n",
    "\n"
   ]
  },
  {
   "cell_type": "code",
   "execution_count": 81,
   "metadata": {},
   "outputs": [
    {
     "data": {
      "text/plain": [
       "[<Movie: Blue Sky (1994)>,\n",
       " <Movie: Blue Chips (1994)>,\n",
       " <Movie: Three Colors: Blue (1993)>,\n",
       " <Movie: Devil in a Blue Dress (1995)>,\n",
       " <Movie: Blue in the Face (1995)>]"
      ]
     },
     "execution_count": 81,
     "metadata": {},
     "output_type": "execute_result"
    }
   ],
   "source": [
    "from elasticsearch_dsl.query import Match\n",
    "\n",
    "# Find all movies with the word \"blue\" in the title\n",
    "search = Movie.search().query(\n",
    "    Match(title=\"blue\")\n",
    ")\n",
    "list(search)"
   ]
  },
  {
   "cell_type": "markdown",
   "metadata": {},
   "source": [
    "### Filtering\n",
    "\n",
    "Elasticsearch comes with many types of filters.\n",
    "\n",
    "The `Term` filter will return results with an exact match.\n",
    "\n",
    "A good example is filtering movies by genre. Because we've defined genre as a `Keyword` datatype in the mapping, we can filter movies containing an exact genre.\n",
    "\n",
    "**Note:** Movies with multiple genres (e.g. Action, Comedy) will be included if at least one of the genres matches.\n",
    "\n",
    "As an example, let's find all comedy movies."
   ]
  },
  {
   "cell_type": "code",
   "execution_count": 82,
   "metadata": {},
   "outputs": [
    {
     "data": {
      "text/plain": [
       "[<Movie: Waiting to Exhale (1995)>,\n",
       " <Movie: Father of the Bride Part II (1995)>,\n",
       " <Movie: Sabrina (1995)>,\n",
       " <Movie: The American President (1995)>,\n",
       " <Movie: Dracula: Dead and Loving It (1995)>,\n",
       " <Movie: Four Rooms (1995)>,\n",
       " <Movie: Don't Be a Menace to South Central While Drinking Your Juice in the Hood (1996)>,\n",
       " <Movie: Friday (1995)>,\n",
       " <Movie: Muppet Treasure Island (1996)>,\n",
       " <Movie: Rumble in the Bronx (1995)>]"
      ]
     },
     "execution_count": 82,
     "metadata": {},
     "output_type": "execute_result"
    }
   ],
   "source": [
    "from elasticsearch_dsl.query import Term\n",
    "\n",
    "# Find all comedy movies\n",
    "search = Movie.search().filter(\n",
    "    Term(genre=\"Comedy\")\n",
    ")\n",
    "list(search)"
   ]
  },
  {
   "cell_type": "markdown",
   "metadata": {},
   "source": [
    "### What about other filters?\n",
    "\n",
    "Sometimes we might want to filter non-string fields in more useful ways. For example, filtering for a range of values.\n",
    "\n",
    "In this example, we'll use the `Range` filter to find all movies released in the year 1994.\n",
    "\n",
    "**Note:** If this were a real application, it would be more performant to index `year` as its own field with an `Integer` datatype."
   ]
  },
  {
   "cell_type": "code",
   "execution_count": 86,
   "metadata": {},
   "outputs": [
    {
     "data": {
      "text/plain": [
       "[<Movie: Crumb (1994)>,\n",
       " <Movie: Disclosure (1994)>,\n",
       " <Movie: Drop Zone (1994)>,\n",
       " <Movie: Eat Drink Man Woman (1994)>,\n",
       " <Movie: Ed Wood (1994)>,\n",
       " <Movie: I.Q. (1994)>,\n",
       " <Movie: Junior (1994)>,\n",
       " <Movie: L'Enfer (1994)>,\n",
       " <Movie: Little Odessa (1994)>,\n",
       " <Movie: Mixed Nuts (1994)>]"
      ]
     },
     "execution_count": 86,
     "metadata": {},
     "output_type": "execute_result"
    }
   ],
   "source": [
    "from elasticsearch_dsl.query import Range\n",
    "\n",
    "# Find all movies released in 1994\n",
    "search = Movie.search().filter(\n",
    "    Range(release_date={\"gte\": \"1994-01-01\", \"lt\": \"1995-01-01\"})\n",
    ")\n",
    "list(search)"
   ]
  },
  {
   "cell_type": "code",
   "execution_count": 87,
   "metadata": {},
   "outputs": [
    {
     "name": "stdout",
     "output_type": "stream",
     "text": [
      "Drama has 570 movies\n",
      "Comedy has 376 movies\n",
      "Romance has 259 movies\n",
      "Thriller has 212 movies\n",
      "Action has 169 movies\n",
      "Family has 131 movies\n",
      "Crime has 130 movies\n",
      "Adventure has 110 movies\n",
      "Fantasy has 78 movies\n",
      "Mystery has 76 movies\n"
     ]
    }
   ],
   "source": [
    "from elasticsearch_dsl.aggs import Terms\n",
    "\n",
    "# Return all movies\n",
    "search = Movie.search()\n",
    "\n",
    "# Find the most common genres\n",
    "search.aggs.bucket(\"genres\", Terms(field=\"genre\"))\n",
    "results = search.execute()\n",
    "\n",
    "for genre in results.aggregations.genres.buckets:\n",
    "    print(\"{} has {} movies\".format(genre.key, genre.doc_count))\n"
   ]
  },
  {
   "cell_type": "code",
   "execution_count": 101,
   "metadata": {},
   "outputs": [
    {
     "name": "stdout",
     "output_type": "stream",
     "text": [
      "Warner Bros. has 76 movies with top gross of $494,471,524 and total gross of $5,003,717,411\n",
      "Paramount Pictures has 60 movies with top gross of $677,945,399 and total gross of $3,515,498,387\n",
      "Universal Pictures has 58 movies with top gross of $920,100,000 and total gross of $4,897,919,596\n",
      "Metro-Goldwyn-Mayer (MGM) has 41 movies with top gross of $400,176,459 and total gross of $844,235,705\n",
      "Twentieth Century Fox Film Corporation has 40 movies with top gross of $816,969,268 and total gross of $4,742,379,769\n",
      "Miramax Films has 38 movies with top gross of $213,928,762 and total gross of $479,548,959\n",
      "New Line Cinema has 37 movies with top gross of $351,583,407 and total gross of $1,457,081,732\n",
      "Hollywood Pictures has 35 movies with top gross of $335,062,621 and total gross of $1,660,633,116\n",
      "Columbia Pictures has 31 movies with top gross of $141,407,024 and total gross of $833,418,073\n",
      "TriStar Pictures has 29 movies with top gross of $262,797,249 and total gross of $1,452,386,294\n"
     ]
    }
   ],
   "source": [
    "from elasticsearch_dsl.aggs import Stats\n",
    "\n",
    "# Return all movies\n",
    "search = Movie.search()\n",
    "\n",
    "# Find the most common production companies\n",
    "search.aggs.bucket(\n",
    "    \"production_companies\",\n",
    "    Terms(field=\"production_companies\").metric(\n",
    "        \"revenue_stats\",\n",
    "        Stats(field=\"revenue\")\n",
    "    )\n",
    ")\n",
    "results = search.execute()\n",
    "\n",
    "for production_company in results.aggregations.production_companies.buckets:\n",
    "    revenue_stats = production_company.revenue_stats\n",
    "    print(\"{} has {} movies with top gross of ${:,} and total gross of ${:,}\".format(\n",
    "        production_company.key,\n",
    "        production_company.doc_count,\n",
    "        int(revenue_stats.max),\n",
    "        int(revenue_stats.sum),\n",
    "    ))\n"
   ]
  },
  {
   "cell_type": "code",
   "execution_count": null,
   "metadata": {},
   "outputs": [],
   "source": []
  }
 ],
 "metadata": {
  "kernelspec": {
   "display_name": "Python 3",
   "language": "python",
   "name": "python3"
  },
  "language_info": {
   "codemirror_mode": {
    "name": "ipython",
    "version": 3
   },
   "file_extension": ".py",
   "mimetype": "text/x-python",
   "name": "python",
   "nbconvert_exporter": "python",
   "pygments_lexer": "ipython3",
   "version": "3.6.6"
  }
 },
 "nbformat": 4,
 "nbformat_minor": 2
}
