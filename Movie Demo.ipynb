{
 "cells": [
  {
   "cell_type": "markdown",
   "metadata": {},
   "source": [
    "# Elasticsearch with Python \n",
    "\n",
    "## An Interactive Tech Talk\n",
    "\n",
    "**1st November 2018**<br>\n",
    "**Sean Kozer**\n",
    "\n",
    "The purpose of this interactive tech talk is to familiarise you with Elasticsearch concepts and how to apply them in Python projects.\n",
    "\n",
    "You will be searching, filtering and performing statistical analysis on movie data from IMDB."
   ]
  },
  {
   "cell_type": "markdown",
   "metadata": {},
   "source": [
    "### Connecting to Elasticsearch\n",
    "\n",
    "The first step is to create a connection. We will be creating a persistent connection so we won't have to explicitly pass it into each method call.\n",
    "\n",
    "The `\"elasticsearch\"` hostname is the name of ES service in `docker-compose.yml`"
   ]
  },
  {
   "cell_type": "code",
   "execution_count": null,
   "metadata": {},
   "outputs": [],
   "source": [
    "from elasticsearch_dsl import connections\n",
    "\n",
    "# Create the default connection to Elasticsearch\n",
    "client = connections.create_connection(hosts=[\"elasticsearch\"], timeout=20)"
   ]
  },
  {
   "cell_type": "markdown",
   "metadata": {},
   "source": [
    "### Defining the schema\n",
    "\n",
    "Elasticsearch is technically a schemaless datastore. But to avoid issues down the track, it's explicitly define a mapping.\n",
    "\n",
    "Elasticsearch-DSL provides a convenient wrapper which bears some similarities with Django models.\n",
    "\n",
    "We'll be using several different datatypes for our movie data.\n",
    "\n",
    "- For string fields which require full-text search, we're going to use the `Text` type.\n",
    "- For string fields which are only used for filtering and sorting, we're going to use the `Keyword` type.\n",
    "- The other datatypes we'll use are `Integer` and `Date`, which are self explanatory in this demo."
   ]
  },
  {
   "cell_type": "code",
   "execution_count": null,
   "metadata": {
    "scrolled": true
   },
   "outputs": [],
   "source": [
    "from elasticsearch_dsl import Date, Document, Integer, Keyword, Text\n",
    "\n",
    "INDEX_NAME = \"movies\"\n",
    "\n",
    "class Movie(Document):\n",
    "    title = Text()\n",
    "    overview = Text()\n",
    "    genre = Keyword()\n",
    "    release_date = Date()\n",
    "    revenue = Integer()\n",
    "    production_company = Keyword()\n",
    "\n",
    "    class Index:\n",
    "        name = INDEX_NAME\n",
    "    \n",
    "    def get_display_name(self):\n",
    "        year = self.release_date.strftime('%Y')\n",
    "        return '{title} ({year})'.format(title=self.title, year=year)\n",
    "    \n",
    "    def __repr__(self):\n",
    "        return '<Movie: {}>'.format(self.get_display_name())"
   ]
  },
  {
   "cell_type": "markdown",
   "metadata": {},
   "source": [
    "### Creating the index and mapping\n",
    "\n",
    "Now that we have our mapping, it's time to push it to Elasticsearch."
   ]
  },
  {
   "cell_type": "code",
   "execution_count": null,
   "metadata": {},
   "outputs": [],
   "source": [
    "# Create the mapping\n",
    "Movie.init()\n",
    "\n",
    "# Confirm the mapping exists\n",
    "client.indices.get_mapping(INDEX_NAME)"
   ]
  },
  {
   "cell_type": "markdown",
   "metadata": {},
   "source": [
    "### Indexing our first movie\n",
    "\n",
    "Let's create a movie and push it to Elasticsearch. You'll notice the syntax here is very similar to Django models."
   ]
  },
  {
   "cell_type": "code",
   "execution_count": null,
   "metadata": {},
   "outputs": [],
   "source": [
    "# Create an example movie\n",
    "movie = Movie(\n",
    "    meta={'id': 1},\n",
    "    title=\"Example Movie\",\n",
    "    overview=\"This movie is about cats and dogs\",\n",
    "    genre=[\"Comedy\", \"Action\"],\n",
    "    release_date=\"2018-11-02\",\n",
    "    revenue=1000000,\n",
    "    production_company=\"Pixar\"\n",
    ")\n",
    "movie.save()"
   ]
  },
  {
   "cell_type": "markdown",
   "metadata": {},
   "source": [
    "### Finding our first movie\n",
    "\n",
    "**Success!** Let's search the index to try find the movie we created.\n",
    "\n",
    "Elasticsearch returns all results when no filters or queries are specified.\n",
    "\n",
    "Because this is just a test movie, we'll delete it right after we print it.\n",
    "\n",
    "**Note:** Pagination defaults to 10 results. You can increase this by using Python array slicing."
   ]
  },
  {
   "cell_type": "code",
   "execution_count": null,
   "metadata": {},
   "outputs": [],
   "source": [
    "from elasticsearch_dsl import Search\n",
    "\n",
    "# Search for all movies (10 at a time) and delete them one by one\n",
    "movies = Movie.search()\n",
    "for movie in movies:\n",
    "    print(movie)\n",
    "    movie.delete()\n"
   ]
  },
  {
   "cell_type": "markdown",
   "metadata": {},
   "source": [
    "### Use real data\n",
    "\n",
    "Now that we're confident everything is working, let's index real movies!"
   ]
  },
  {
   "cell_type": "code",
   "execution_count": null,
   "metadata": {},
   "outputs": [],
   "source": [
    "import csv\n",
    "import ast\n",
    "from elasticsearch.helpers import bulk\n",
    "\n",
    "MAX_ROWS = 1000\n",
    "movies = []\n",
    "\n",
    "with open(\"input/movies.csv\") as csvfile:\n",
    "    reader = csv.DictReader(csvfile)\n",
    "    for idx, row in enumerate(reader):\n",
    "        if idx >= MAX_ROWS:\n",
    "            break\n",
    "\n",
    "        movie = Movie(\n",
    "            meta={\"id\": row[\"imdb_id\"]},\n",
    "            title=row[\"title\"],\n",
    "            overview=row[\"overview\"],\n",
    "            genre=[g[\"name\"] for g in ast.literal_eval(row[\"genres\"])],\n",
    "            release_date=row[\"release_date\"] or None,\n",
    "            revenue=row[\"revenue\"],\n",
    "            production_company=[p[\"name\"] for p in ast.literal_eval(row[\"production_companies\"])],      \n",
    "        )\n",
    "        # Convert the movie to a dict with metadata so it can be bulk indexed\n",
    "        movies.append(movie.to_dict(include_meta=True))\n",
    "        \n",
    "# Bulk index our movies     \n",
    "res = bulk(client, movies)\n",
    "print(\"{} movies successfully indexed. Failures: {}\".format(*res))"
   ]
  },
  {
   "cell_type": "markdown",
   "metadata": {},
   "source": [
    "### Full text search\n",
    "\n",
    "\n",
    "#### Tokenisation\n",
    "\n",
    "In our mapping we defined the title as a `Text` datatype which allows tokenisation and analysis at index time and search time.\n",
    "\n",
    "By default, it uses the `standard` analyzer which has sensible, but basic defaults.<br>\n",
    "You can create custom analyzers in index settings and assign them to fields in the mapping.<br>\n",
    "\n",
    "For this demo, we'll keep it simple.\n",
    "\n",
    "#### Scoring\n",
    "\n",
    "When performing a full text search, we use the `Match` query type which scores results by keyword relevance.<br>\n",
    "The algorithm which determines relevance is highly complicated, but primarily hinges on the [TF-IDF](https://en.wikipedia.org/wiki/Tf%E2%80%93idf) statistic.\n",
    "\n",
    "Let's see this in action by searching for movie titles containing the word \"Blue\"."
   ]
  },
  {
   "cell_type": "code",
   "execution_count": null,
   "metadata": {},
   "outputs": [],
   "source": [
    "from elasticsearch_dsl.query import Match\n",
    "\n",
    "# Find all movies with the word \"blue\" in the title\n",
    "search = Movie.search().query(\n",
    "    Match(title=\"blue\")\n",
    ")\n",
    "list(search)"
   ]
  },
  {
   "cell_type": "markdown",
   "metadata": {},
   "source": [
    "### Filtering\n",
    "\n",
    "Elasticsearch comes with many types of filters.\n",
    "\n",
    "The `Term` filter will return results with an exact match.\n",
    "\n",
    "A good example is filtering movies by genre. Because we've defined genre as a `Keyword` datatype in the mapping, we can filter movies containing an exact genre.\n",
    "\n",
    "**Note:** Movies with multiple genres (e.g. Action, Comedy) will be included if at least one of the genres matches.\n",
    "\n",
    "As an example, let's find all comedy movies."
   ]
  },
  {
   "cell_type": "code",
   "execution_count": null,
   "metadata": {},
   "outputs": [],
   "source": [
    "from elasticsearch_dsl.query import Term\n",
    "\n",
    "# Find all comedy movies\n",
    "search = Movie.search().filter(\n",
    "    Term(genre=\"Comedy\")\n",
    ")\n",
    "list(search)"
   ]
  },
  {
   "cell_type": "markdown",
   "metadata": {},
   "source": [
    "### What about other types of filters?\n",
    "\n",
    "Sometimes we might want to filter non-string fields in more useful ways. For example, filtering for a range of values.\n",
    "\n",
    "In this example, we'll use the `Range` filter to find all movies released in the year 1994.\n",
    "\n",
    "**Note:** If this were a real application, it would be more performant to index `year` as its own field with an `Integer` datatype."
   ]
  },
  {
   "cell_type": "code",
   "execution_count": null,
   "metadata": {},
   "outputs": [],
   "source": [
    "from elasticsearch_dsl.query import Range\n",
    "\n",
    "# Find all movies released in 1994\n",
    "search = Movie.search().filter(\n",
    "    Range(release_date={\"gte\": \"1994-01-01\", \"lt\": \"1995-01-01\"})\n",
    ")\n",
    "list(search)"
   ]
  },
  {
   "cell_type": "markdown",
   "metadata": {},
   "source": [
    "### Aggregations\n",
    "\n",
    "Searching and filtering movies has its uses, but what else can we learn from this dataset?<br>\n",
    "Elasticsearch aggregations can be used for a broad range of applciations, from statistical analysis to generating faceted navigation.\n",
    "\n",
    "We'll look at both cases below.\n",
    "\n",
    "In order to generate faceted navigation, we need to aggregate the data into buckets.\n",
    "\n",
    "For example, to find out the 10 most common genres in our dataset, we would use a `Terms` aggregation on the `genre` field. This will return the name of the genre and the number of results it has."
   ]
  },
  {
   "cell_type": "code",
   "execution_count": null,
   "metadata": {},
   "outputs": [],
   "source": [
    "from elasticsearch_dsl.aggs import Terms\n",
    "\n",
    "# Return all movies\n",
    "search = Movie.search()\n",
    "\n",
    "# Find the most common genres\n",
    "search.aggs.bucket(\"genres\", Terms(field=\"genre\"))\n",
    "results = search.execute()\n",
    "\n",
    "for genre in results.aggregations.genres.buckets:\n",
    "    print(\"{} has {} movies\".format(genre.key, genre.doc_count))\n"
   ]
  },
  {
   "cell_type": "markdown",
   "metadata": {},
   "source": [
    "### Let's be data scientists\n",
    "\n",
    "Sorting our dataset into buckets is cool, but let's take aggregations one step further.<br>\n",
    "In Elasticsearch, aggregations can be nested, which means we can extract more information at the bucket level.\n",
    "\n",
    "For example, let's apply the previous pattern to see which production companies produce the most films.\n",
    "\n",
    "Now, for each production company, let's extract statistics on revenue such as total gross, top gross, etc. across all their films. We do this by extending the bucket `Terms` aggregation with a `Stats` metric aggregation."
   ]
  },
  {
   "cell_type": "code",
   "execution_count": null,
   "metadata": {},
   "outputs": [],
   "source": [
    "from elasticsearch_dsl.aggs import Stats\n",
    "\n",
    "# Return all movies\n",
    "search = Movie.search()\n",
    "\n",
    "# Find the most common production companies\n",
    "search.aggs.bucket(\n",
    "    \"production_companies\",\n",
    "    Terms(field=\"production_company\").metric(\n",
    "        \"revenue_stats\",\n",
    "        Stats(field=\"revenue\")\n",
    "    )\n",
    ")\n",
    "results = search.execute()\n",
    "\n",
    "for production_company in results.aggregations.production_companies.buckets:\n",
    "    # Extract data from the top level aggregation\n",
    "    company_name = production_company.key\n",
    "    num_movies = production_company.doc_count\n",
    "    \n",
    "    # Extract revenue statistics from the sub-aggregation\n",
    "    revenue_stats = production_company.revenue_stats\n",
    "    top_gross = int(revenue_stats.max)\n",
    "    total_gross = int(revenue_stats.sum)\n",
    "    \n",
    "    print(\"{} has {} movies with top gross of ${:,} and total gross of ${:,}\\n\".format(\n",
    "        company_name, num_movies, top_gross, total_gross\n",
    "    ))"
   ]
  },
  {
   "cell_type": "markdown",
   "metadata": {},
   "source": [
    "### Other cool features\n",
    "\n",
    "Elasticsearch has a whole bunch of cool features which I haven't covered in this tech talk but are worth looking into.\n",
    "\n",
    "- Suggesters (used for autocomplete)\n",
    "- Custom analyzers, tokenizers and token filters (used for synonyms, typo tolerance, internationalisation)\n",
    "- MLT queries (used for finding similar documents based on keywords)\n",
    "- Kibana and its plugins (for time-series data monitoring and analysis)\n",
    "- Curator (for maintaining time-series indices)\n",
    "\n",
    "### Resources\n",
    "\n",
    "- [Elasticsearch Reference](https://www.elastic.co/guide/en/elasticsearch/reference/current/index.html)\n",
    "- [Qbox Blog](https://qbox.io/blog)\n",
    "- [Elasticsearch Blog](https://www.elastic.co/blog)\n",
    "\n",
    "\n",
    "### References\n",
    "\n",
    "- [Python Elasticsearch Client (elasticsearch-py)](https://elasticsearch-py.readthedocs.io/en/master/)\n",
    "- [Elasticsearch DSL (elasticsearch-dsl)](https://elasticsearch-dsl.readthedocs.io/en/latest/index.html)\n",
    "- [IMDB Dataset](https://www.kaggle.com/rounakbanik/the-movies-dataset/)"
   ]
  }
 ],
 "metadata": {
  "kernelspec": {
   "display_name": "Python 3",
   "language": "python",
   "name": "python3"
  },
  "language_info": {
   "codemirror_mode": {
    "name": "ipython",
    "version": 3
   },
   "file_extension": ".py",
   "mimetype": "text/x-python",
   "name": "python",
   "nbconvert_exporter": "python",
   "pygments_lexer": "ipython3",
   "version": "3.6.6"
  }
 },
 "nbformat": 4,
 "nbformat_minor": 2
}
